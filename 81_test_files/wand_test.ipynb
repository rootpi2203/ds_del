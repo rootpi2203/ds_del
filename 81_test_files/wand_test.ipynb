{
 "cells": [
  {
   "cell_type": "code",
   "execution_count": null,
   "metadata": {},
   "outputs": [],
   "source": [
    "import wandb\n",
    "import random\n",
    "import os\n",
    "os.environ[\"WANDB_SILENT\"] = \"true\""
   ]
  },
  {
   "cell_type": "code",
   "execution_count": null,
   "metadata": {},
   "outputs": [],
   "source": [
    "config = {\n",
    "    \"dataset\": \"CIFAR-10\",\n",
    "    \"architecture\": \"MLP\", \n",
    "    \"epochs\": 10,   \n",
    "    \"batchsize\": 32,\n",
    "    \"learning_rate\": 0.05, \n",
    "    \"hidden_layer_sizes\": [32, 64], \n",
    "    \"kernel_sizes\": [3],\n",
    "    \"activation\": \"ReLU\",\n",
    "    \"pool_sizes\": [2],\n",
    "    \"dropout\": 0.5,\n",
    "    \"num_classes\": 10\n",
    "    \n",
    "}\n",
    "\n",
    "\n",
    "# start a new wandb run to track this script\n",
    "wandb.init(\n",
    "    project=\"test_project\",\n",
    "    name='MLP_test_test', \n",
    "    notes=\"\",\n",
    "    config=config\n",
    ")\n",
    "\n",
    "\n",
    "# simulate training\n",
    "epochs = 15\n",
    "offset = random.random() / 5\n",
    "for epoch in range(2, epochs):\n",
    "    acc = 1 - 2 ** -epoch - random.random() / epoch - offset\n",
    "    loss = 2 ** -epoch + random.random() / epoch + offset\n",
    "    \n",
    "    # log metrics to wandb\n",
    "    wandb.log({\"acc\": acc, \"loss\": loss})\n",
    "    \n",
    "# [optional] finish the wandb run, necessary in notebooks\n",
    "wandb.finish()"
   ]
  },
  {
   "attachments": {},
   "cell_type": "markdown",
   "metadata": {},
   "source": [
    "## Sweep test"
   ]
  },
  {
   "cell_type": "code",
   "execution_count": null,
   "metadata": {},
   "outputs": [],
   "source": [
    "import wandb\n",
    "\n",
    "sweep_configuration = {\n",
    "    \"name\": \"my-awesome-sweep\",\n",
    "    \"metric\": {\"name\": \"accuracy\", \"goal\": \"maximize\"},\n",
    "    \"method\": \"grid\",\n",
    "    \"parameters\": {\"a\": {\"values\": [1, 2, 3, 4]}},\n",
    "}\n",
    "\n",
    "\n",
    "def my_train_func():\n",
    "    # read the current value of parameter \"a\" from wandb.config\n",
    "    wandb.init()\n",
    "    a = wandb.config.a\n",
    "\n",
    "    wandb.log({\"a\": a, \"accuracy\": a + 1})\n",
    "\n",
    "\n",
    "sweep_id = wandb.sweep(sweep_configuration)\n",
    "\n",
    "# run the sweep\n",
    "wandb.agent(sweep_id, function=my_train_func)"
   ]
  },
  {
   "cell_type": "code",
   "execution_count": null,
   "metadata": {},
   "outputs": [],
   "source": []
  },
  {
   "cell_type": "code",
   "execution_count": null,
   "metadata": {},
   "outputs": [],
   "source": []
  }
 ],
 "metadata": {
  "kernelspec": {
   "display_name": "torch_cuda117_env",
   "language": "python",
   "name": "python3"
  },
  "language_info": {
   "codemirror_mode": {
    "name": "ipython",
    "version": 3
   },
   "file_extension": ".py",
   "mimetype": "text/x-python",
   "name": "python",
   "nbconvert_exporter": "python",
   "pygments_lexer": "ipython3",
   "version": "3.9.16"
  },
  "orig_nbformat": 4
 },
 "nbformat": 4,
 "nbformat_minor": 2
}
