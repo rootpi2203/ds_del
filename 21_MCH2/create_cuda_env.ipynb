{
 "cells": [
  {
   "cell_type": "markdown",
   "metadata": {},
   "source": [
    "### Working env with cuda\n",
    "- del_mc2_cuda5\n",
    "- del_mc2_cuda6 -> latest version and used\n",
    "\n",
    "Helpful links\n",
    "- https://pytorch.org/\n",
    "- https://developer.nvidia.com/cuda-11-8-0-download-archive?target_os=Windows&target_arch=x86_64&target_version=10&target_type=exe_local\n",
    "- https://anaconda.org/pytorch/pytorch-cuda\n",
    "- *Note: ChatGPT conda installtion commands are wrong using cudatoolkit, use pytorch-cuda instead*\n",
    "- *Note: beside torch.device the description of the installed pytorch package can be checked to see if cuda is available (conda list -n conda_env )* "
   ]
  },
  {
   "cell_type": "code",
   "execution_count": 1,
   "metadata": {},
   "outputs": [
    {
     "name": "stdout",
     "output_type": "stream",
     "text": [
      "device:  cuda\n",
      "2.1.2\n"
     ]
    }
   ],
   "source": [
    "import torch\n",
    "import numpy as np\n",
    "\n",
    "device = torch.device('cuda' if torch.cuda.is_available() else 'cpu')\n",
    "print('device: ', device)\n",
    "print(torch.__version__)"
   ]
  },
  {
   "cell_type": "markdown",
   "metadata": {},
   "source": [
    "### Basic conda commands\n",
    "\n",
    "```\n",
    "conda update -n base -c defaults conda\n",
    "conda deactivate\n",
    "conda env remove -n cuda_env\n",
    "```"
   ]
  },
  {
   "cell_type": "markdown",
   "metadata": {},
   "source": [
    "### Packages needed\n",
    "\n",
    "```\n",
    "conda install -c anaconda ipykernel\n",
    "conda install -c pytorch torchtext\n",
    "conda install numpy\n",
    "conda install pandas\n",
    "conda install matplotlib\n",
    "conda install pillow\n",
    "conda install -c conda-forge spacy\n",
    "python -m spacy download en_core_web_sm\n",
    "conda install -c conda-forge wandb\n",
    "conda install -c anaconda nltk\n",
    "\n",
    "```"
   ]
  },
  {
   "cell_type": "markdown",
   "metadata": {},
   "source": [
    "### Test 3 - installed\n",
    "sollte mit pytorch 2.0.1 laufen\n",
    "\n",
    "```\n",
    "conda create -n del_mc2_cuda3 python=3.9\n",
    "conda activate del_mc2_cuda3\n",
    "conda install pytorch torchvision torchaudio pytorch-cuda=11.7 -c pytorch -c nvidia\n",
    "conda list -n del_mc2_cuda3  # pytorch package zeigt py3.9_cpu \n",
    "conda deactivate\n",
    "conda env remove -n del_mc2_cuda3\n",
    "\n",
    "```"
   ]
  },
  {
   "cell_type": "markdown",
   "metadata": {},
   "source": [
    "### Test 4 - not found\n",
    "sollte mit pytorch 2.0.1 laufen\n",
    "\n",
    "```\n",
    "conda create -n del_mc2_cuda4 python=3.9\n",
    "conda activate del_mc2_cuda4\n",
    "conda install pytorch torchvision torchaudio pytorch-cuda=11.2 -c pytorch -c nvidia\n",
    "conda list -n del_mc2_cuda4\n",
    "conda env remove -n del_mc2_cuda4\n",
    "```"
   ]
  },
  {
   "cell_type": "markdown",
   "metadata": {},
   "source": [
    "### Test 5 - installed - works!\n",
    "sollte mit pytorch 2.0.1 und 2.1.0 laufen\n",
    "\n",
    "```\n",
    "conda create -n del_mc2_cuda5 python=3.9\n",
    "conda activate del_mc2_cuda5\n",
    "conda install pytorch torchvision torchaudio pytorch-cuda=11.8 -c pytorch -c nvidia\n",
    "conda list -n del_mc2_cuda5  # pytorch package zeigt cuda11.8_cudnn8_0\n",
    "```"
   ]
  },
  {
   "cell_type": "markdown",
   "metadata": {},
   "source": [
    "### Test 6 - installed - works!\n",
    "sollte mit pytorch 2.0.1 und 2.1.0 laufen\n",
    "\n",
    "```\n",
    "conda create -n del_mc2_cuda6 python=3.9\n",
    "conda activate del_mc2_cuda6\n",
    "conda install pytorch torchvision torchaudio pytorch-cuda=12.1 -c pytorch -c nvidia\n",
    "conda list -n del_mc2_cuda6  # pytorch package zeigt cuda11.8_cudnn8_0\n",
    "```"
   ]
  },
  {
   "cell_type": "markdown",
   "metadata": {},
   "source": [
    "### Test 7 - installed\n",
    "fun with conda\n",
    "\n",
    "```\n",
    "conda create -n del_mc2_cuda7 python=3.9\n",
    "conda activate del_mc2_cuda7\n",
    "conda install pytorch torchvision torchaudio -c pytorch -c nvidia\n",
    "conda list -n del_mc2_cuda7  # pytorch package zeigt py3.9_cpu \n",
    "conda env remove -n del_mc2_cuda7\n"
   ]
  },
  {
   "cell_type": "code",
   "execution_count": null,
   "metadata": {},
   "outputs": [],
   "source": []
  }
 ],
 "metadata": {
  "kernelspec": {
   "display_name": "del_mc2_cuda3",
   "language": "python",
   "name": "python3"
  },
  "language_info": {
   "codemirror_mode": {
    "name": "ipython",
    "version": 3
   },
   "file_extension": ".py",
   "mimetype": "text/x-python",
   "name": "python",
   "nbconvert_exporter": "python",
   "pygments_lexer": "ipython3",
   "version": "3.9.18"
  }
 },
 "nbformat": 4,
 "nbformat_minor": 2
}
